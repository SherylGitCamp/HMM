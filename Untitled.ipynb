{
 "cells": [
  {
   "cell_type": "code",
   "execution_count": 29,
   "metadata": {},
   "outputs": [],
   "source": [
    "import numpy as np\n",
    "def loadFile():\n",
    "    listX = []\n",
    "    listY = []\n",
    "    f=open(\"data_to_wei.txt\", 'r')\n",
    "    f1 = f.readlines()\n",
    "    for line in f1:\n",
    "        info = line.split(',')\n",
    "        #print(info[1:11])\n",
    "        listX.append(np.array(info[1:11]).astype(np.float))\n",
    "        listY.append(1 if(float(info[-1]) > 0.2) else 0)\n",
    "\n",
    "    print(\"file loaded, length:{}\", len(listX))   \n",
    "    return (listX, listY)"
   ]
  },
  {
   "cell_type": "code",
   "execution_count": 30,
   "metadata": {},
   "outputs": [
    {
     "name": "stdout",
     "output_type": "stream",
     "text": [
      "('file loaded, length:{}', 203968)\n"
     ]
    }
   ],
   "source": [
    "[X, Y]= loadFile()\n",
    "X = np.vstack(X)\n",
    "Y = np.vstack(Y)"
   ]
  },
  {
   "cell_type": "code",
   "execution_count": 55,
   "metadata": {},
   "outputs": [
    {
     "name": "stdout",
     "output_type": "stream",
     "text": [
      "(array([ 8.00000000e+00,  2.00000000e+00,  4.00000000e+00,  9.04629209e+00,\n",
      "        8.97656099e+00,  8.96356863e+00,  0.00000000e+00, -7.45290000e-03,\n",
      "       -7.45290000e-03, -7.45290000e-03]), 0)\n",
      "(array([ 8.        ,  0.        ,  4.        , 77.26127452, 76.86823382,\n",
      "       77.21396457,  0.        ,  0.        ,  0.        ,  0.        ]), 0)\n"
     ]
    }
   ],
   "source": [
    "indices = np.random.permutation(X.shape[0])\n",
    "training_idx, test_idx = indices[:163000], indices[163000:]\n",
    "Xtraining, Xtest = X[training_idx,:], X[test_idx,:]\n",
    "Ytraining, Ytest = Y[training_idx,:], Y[test_idx,:]\n",
    "Ytraining = Ytraining.reshape(Ytraining.size,)\n",
    "Ytest = Ytest.reshape(Ytest.size)\n",
    "training_data = zip(Xtraining, Ytraining)\n",
    "test_data = zip(Xtest, Ytest)\n",
    "print(training_data[0])\n",
    "print(test_data[1])"
   ]
  },
  {
   "cell_type": "code",
   "execution_count": 61,
   "metadata": {},
   "outputs": [],
   "source": [
    "import network2"
   ]
  },
  {
   "cell_type": "code",
   "execution_count": null,
   "metadata": {},
   "outputs": [],
   "source": [
    "net = network2.Network([10, 2], cost=network2.CrossEntropyCost)\n",
    "net.large_weight_initializer()\n",
    "net.SGD(training_data, 30, 10, 0.5, evaluation_data=test_data, monitor_evaluation_accuracy=True)"
   ]
  },
  {
   "cell_type": "code",
   "execution_count": null,
   "metadata": {},
   "outputs": [],
   "source": []
  }
 ],
 "metadata": {
  "kernelspec": {
   "display_name": "Python 2",
   "language": "python",
   "name": "python2"
  },
  "language_info": {
   "codemirror_mode": {
    "name": "ipython",
    "version": 2
   },
   "file_extension": ".py",
   "mimetype": "text/x-python",
   "name": "python",
   "nbconvert_exporter": "python",
   "pygments_lexer": "ipython2",
   "version": "2.7.14"
  }
 },
 "nbformat": 4,
 "nbformat_minor": 2
}
